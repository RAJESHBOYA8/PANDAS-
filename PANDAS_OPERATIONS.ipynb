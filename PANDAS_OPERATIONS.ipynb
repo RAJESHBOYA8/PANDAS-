{
 "cells": [
  {
   "cell_type": "markdown",
   "id": "d18777d8-b7e8-4c67-90c9-24d40e28d3c0",
   "metadata": {},
   "source": [
    "------\n",
    "-----\n",
    "PANDAS\n",
    "-\n",
    "-----\n",
    "---"
   ]
  },
  {
   "cell_type": "raw",
   "id": "8c5eee16-15c2-4041-a6e2-21d956b0954f",
   "metadata": {},
   "source": [
    "#IMPORT PANDAS AND NUMPY\n",
    "import numpy as np\n",
    "import pandas as pd"
   ]
  },
  {
   "cell_type": "code",
   "execution_count": 83,
   "id": "1d06d5cf-325d-4b92-aa62-f3c7835d62f6",
   "metadata": {},
   "outputs": [
    {
     "name": "stdout",
     "output_type": "stream",
     "text": [
      "DICTIONARY :  {'a': 10, 'b': 20, 'c': 30}\n"
     ]
    }
   ],
   "source": [
    "import numpy as np\n",
    "import pandas as pd\n",
    "labels=['a','b','c']\n",
    "my_data=[10,20,30]\n",
    "arr=np.array(my_data)\n",
    "d={'a':10,'b':20,'c':30}\n",
    "print(\"DICTIONARY : \",d)"
   ]
  },
  {
   "cell_type": "markdown",
   "id": "ac6acfa6-92f1-4267-a60f-e9e5bd2f0185",
   "metadata": {},
   "source": [
    "----------------\n",
    "CREATING A SERIES:\n",
    "-\n",
    "----------------"
   ]
  },
  {
   "cell_type": "raw",
   "id": "064bb36d-842e-48e1-9b93-9d16cb120215",
   "metadata": {},
   "source": [
    "-From nummerical data only\n",
    "-From numerical data and corresponding index(row labels)\n",
    "-From numpy array as the source of numerical data\n",
    "-Just using a pre-defined dictionary"
   ]
  },
  {
   "cell_type": "code",
   "execution_count": 86,
   "id": "173f9fc2-8066-47be-a96b-6e2789d5fcb9",
   "metadata": {},
   "outputs": [
    {
     "data": {
      "text/plain": [
       "0    10\n",
       "1    20\n",
       "2    30\n",
       "dtype: int64"
      ]
     },
     "execution_count": 86,
     "metadata": {},
     "output_type": "execute_result"
    }
   ],
   "source": [
    "pd.Series(data=my_data)"
   ]
  },
  {
   "cell_type": "code",
   "execution_count": 88,
   "id": "68a9b31a-aff0-4fa0-9415-7ca8a5dc21a8",
   "metadata": {},
   "outputs": [
    {
     "data": {
      "text/plain": [
       "a    10\n",
       "b    20\n",
       "c    30\n",
       "dtype: int64"
      ]
     },
     "execution_count": 88,
     "metadata": {},
     "output_type": "execute_result"
    }
   ],
   "source": [
    "pd.Series(data=my_data,index=labels)"
   ]
  },
  {
   "cell_type": "code",
   "execution_count": 90,
   "id": "5d26f48e-a9b7-4ab8-9f06-e0693d7b06e9",
   "metadata": {},
   "outputs": [
    {
     "data": {
      "text/plain": [
       "a    10\n",
       "b    20\n",
       "c    30\n",
       "dtype: int32"
      ]
     },
     "execution_count": 90,
     "metadata": {},
     "output_type": "execute_result"
    }
   ],
   "source": [
    "pd.Series(arr,labels)"
   ]
  },
  {
   "cell_type": "code",
   "execution_count": 92,
   "id": "659a5076-379e-40af-90ed-09776bff1433",
   "metadata": {},
   "outputs": [
    {
     "data": {
      "text/plain": [
       "a    10\n",
       "b    20\n",
       "c    30\n",
       "dtype: int64"
      ]
     },
     "execution_count": 92,
     "metadata": {},
     "output_type": "execute_result"
    }
   ],
   "source": [
    "#USING A PRE-DEFINED FUNCTION\n",
    "pd.Series(d)"
   ]
  },
  {
   "cell_type": "code",
   "execution_count": 94,
   "id": "ffbb6a33-bbe5-4bd2-9d0e-91cab1c13956",
   "metadata": {},
   "outputs": [
    {
     "name": "stdout",
     "output_type": "stream",
     "text": [
      "\n",
      "HOLDING NUMERICAL DATA \n",
      " -------------------------\n",
      "0    10\n",
      "1    20\n",
      "2    30\n",
      "dtype: int32\n"
     ]
    }
   ],
   "source": [
    "print('\\nHOLDING NUMERICAL DATA \\n','-'*25,sep=\" \")\n",
    "print(pd.Series(arr))"
   ]
  },
  {
   "cell_type": "code",
   "execution_count": 96,
   "id": "9e42f088-7561-445a-917b-5d5939b0f32d",
   "metadata": {},
   "outputs": [
    {
     "name": "stdout",
     "output_type": "stream",
     "text": [
      "\n",
      " HOLDING TEXT LABELS \n",
      "---------------------\n",
      "0    a\n",
      "1    b\n",
      "2    c\n",
      "dtype: object\n"
     ]
    }
   ],
   "source": [
    "print(\"\\n HOLDING TEXT LABELS \\n\",\"-\"*20,sep=\"-\")\n",
    "print(pd.Series(labels))"
   ]
  },
  {
   "cell_type": "code",
   "execution_count": 98,
   "id": "3b44b49e-0fd2-4e2b-9042-23d40af93bfa",
   "metadata": {},
   "outputs": [
    {
     "name": "stdout",
     "output_type": "stream",
     "text": [
      "\n",
      "HOLDING FUNCTIONS \n",
      "---------------------\n",
      "0      <built-in function sum>\n",
      "1    <built-in function print>\n",
      "2      <built-in function len>\n",
      "dtype: object\n"
     ]
    }
   ],
   "source": [
    "print(\"\\nHOLDING FUNCTIONS \\n\",\"-\"*20,sep=\"-\")\n",
    "print(pd.Series(data=[sum,print,len]))"
   ]
  },
  {
   "cell_type": "code",
   "execution_count": 100,
   "id": "dbd7dc9a-7506-4b70-ae80-ff36aa2b2f14",
   "metadata": {},
   "outputs": [
    {
     "name": "stdout",
     "output_type": "stream",
     "text": [
      "\n",
      "HOLDING OBJECTS FROM A DICTIONARY\n",
      "----------------------------------------\n",
      "0    <built-in method keys of dict object at 0x0000...\n",
      "1    <built-in method items of dict object at 0x000...\n",
      "2    <built-in method values of dict object at 0x00...\n",
      "dtype: object\n"
     ]
    }
   ],
   "source": [
    "print(\"\\nHOLDING OBJECTS FROM A DICTIONARY\\n\",\"-\"*40,sep=\"\")\n",
    "print(pd.Series(data=[d.keys,d.items,d.values]))"
   ]
  },
  {
   "cell_type": "markdown",
   "id": "489fb3a5-22a6-42e4-beb6-2346fb809dd1",
   "metadata": {},
   "source": [
    "-------------------\n",
    "INDEXING AND SLICING\n",
    "-\n",
    "-------------------"
   ]
  },
  {
   "cell_type": "code",
   "execution_count": 103,
   "id": "10678663-acf1-4ce1-9b32-839f4868f59f",
   "metadata": {},
   "outputs": [
    {
     "name": "stdout",
     "output_type": "stream",
     "text": [
      "ca    1\n",
      "or    2\n",
      "co    3\n",
      "az    4\n",
      "dtype: int64 \n",
      "\n",
      " ca    1\n",
      "or    2\n",
      "nv    5\n",
      "az    4\n",
      "dtype: int64\n"
     ]
    }
   ],
   "source": [
    "#crating two series\n",
    "s1=pd.Series([1,2,3,4],[\"ca\",\"or\",\"co\",\"az\"])\n",
    "s2=pd.Series([1,2,5,4],[\"ca\",\"or\",\"nv\",\"az\"])\n",
    "print(s1,\"\\n\\n\",s2)"
   ]
  },
  {
   "cell_type": "code",
   "execution_count": 105,
   "id": "5be4acd2-cc18-416e-aafc-6cd8d732fcff",
   "metadata": {},
   "outputs": [
    {
     "name": "stdout",
     "output_type": "stream",
     "text": [
      "\n",
      " INDEXING BY NAME OF THE OBJECT(STRING IDENTIFIER)\n",
      "---------------------------------------------------------\n",
      "VALUE OF CA IN S1 : 1\n",
      "VALUE OF AZ IN S1 : 4\n",
      "VALUE OF NV IN S! : 5\n"
     ]
    }
   ],
   "source": [
    "print(\"\\n INDEXING BY NAME OF THE OBJECT(STRING IDENTIFIER)\\n\",\"-\"*56,sep=\"-\")\n",
    "print(\"VALUE OF CA IN S1 :\",s1[\"ca\"])\n",
    "print(\"VALUE OF AZ IN S1 :\",s1[\"az\"])\n",
    "print(\"VALUE OF NV IN S! :\",s2[\"nv\"])"
   ]
  },
  {
   "cell_type": "code",
   "execution_count": 107,
   "id": "af95b92a-1164-495e-ad23-a748f7115eec",
   "metadata": {},
   "outputs": [
    {
     "name": "stdout",
     "output_type": "stream",
     "text": [
      "\n",
      "INDEXING BY RANGE\n",
      "--------------------------\n",
      "VALUE FOR OR,CO & AZ IN S1 :\n",
      "or    2\n",
      "co    3\n",
      "az    4\n",
      "dtype: int64\n"
     ]
    }
   ],
   "source": [
    "print(\"\\nINDEXING BY RANGE\\n\",\"-\"*25,sep=\"-\")\n",
    "print(\"VALUE FOR OR,CO & AZ IN S1 :\\n\",s1[1:4],sep=\"\")"
   ]
  },
  {
   "cell_type": "markdown",
   "id": "d7b50f0d-599b-4620-8973-7d78087c5a1e",
   "metadata": {},
   "source": [
    "----------\n",
    "ADDING/MERGING TWO SERIES WITH COMMON INDICES\n",
    "-\n",
    "-------------------"
   ]
  },
  {
   "cell_type": "code",
   "execution_count": 110,
   "id": "63bba33b-212c-4e20-9673-5fcfee62c913",
   "metadata": {},
   "outputs": [
    {
     "name": "stdout",
     "output_type": "stream",
     "text": [
      "\n",
      "AFTER ADDING THE TWO SERIES,THE RESULT LOOKS LIKE THIS :\n",
      "------------------------------------------------------------\n",
      "az    8.0\n",
      "ca    2.0\n",
      "co    NaN\n",
      "nv    NaN\n",
      "or    4.0\n",
      "dtype: float64\n"
     ]
    }
   ],
   "source": [
    "s1=pd.Series([1,2,3,4],[\"ca\",\"or\",\"co\",\"az\"])\n",
    "s2=pd.Series([1,2,5,4],[\"ca\",\"or\",\"nv\",\"az\"])\n",
    "s3=s1+s2\n",
    "print(\"\\nAFTER ADDING THE TWO SERIES,THE RESULT LOOKS LIKE THIS :\\n\",\"-\"*59,sep=\"-\")\n",
    "print(s3)"
   ]
  },
  {
   "cell_type": "markdown",
   "id": "ef534d5f-59c4-4ad6-8fff-2091b5d3d032",
   "metadata": {},
   "source": [
    "**PYTHON TRIES TO ADD VALUES WHERE IT FINDS COMMON INDEX NAME AND PUTS NaN WHERE INDICES ARE MISSING"
   ]
  },
  {
   "cell_type": "code",
   "execution_count": 113,
   "id": "a33cb5cd-eb45-4851-915f-d0023310778b",
   "metadata": {},
   "outputs": [
    {
     "name": "stdout",
     "output_type": "stream",
     "text": [
      "\n",
      "MULITIPLICATION :\n",
      " az    16.0\n",
      "ca     1.0\n",
      "co     NaN\n",
      "nv     NaN\n",
      "or     4.0\n",
      "dtype: float64\n"
     ]
    }
   ],
   "source": [
    "print(\"\\nMULITIPLICATION :\\n\",s1*s2)"
   ]
  },
  {
   "cell_type": "code",
   "execution_count": 115,
   "id": "81b93475-54b5-4abe-a600-4753b6c46b28",
   "metadata": {},
   "outputs": [
    {
     "name": "stdout",
     "output_type": "stream",
     "text": [
      "\n",
      "COMBINATION OF MATHEMATICAL OPERATIONS : \n",
      "-----------------------------------------\n",
      "az    55.200210\n",
      "ca     2.718282\n",
      "co          NaN\n",
      "nv          NaN\n",
      "or     7.690086\n",
      "dtype: float64\n"
     ]
    }
   ],
   "source": [
    "print(\"\\nCOMBINATION OF MATHEMATICAL OPERATIONS : \\n\",\"-\"*40,sep=\"-\")\n",
    "print(np.exp(s1)+np.log10(s2))"
   ]
  },
  {
   "cell_type": "markdown",
   "id": "d0a664dc-e4bc-43b6-90a9-a7a7361c9ef8",
   "metadata": {},
   "source": [
    "---\n",
    "DATA FRAME (THE REAL MEAT!)\n",
    "-\n",
    "---"
   ]
  },
  {
   "cell_type": "markdown",
   "id": "ec23264f-7b26-4994-8c23-494da04d8664",
   "metadata": {},
   "source": [
    "CREATING AND ACCESSING DATAFRAME : \n",
    "-"
   ]
  },
  {
   "cell_type": "raw",
   "id": "f8bc333c-a3ab-403d-a5a3-a0ee3eacc373",
   "metadata": {},
   "source": [
    "-INDEXING\n",
    "-ADDING AND DELETING ROW'S AND COLUMN'S\n",
    "-SUBSETTING DATA FRAME"
   ]
  },
  {
   "cell_type": "code",
   "execution_count": 206,
   "id": "c51c2676-c0da-4b7c-a465-cf00ba55100b",
   "metadata": {},
   "outputs": [],
   "source": [
    "from numpy.random import randn as rn"
   ]
  },
  {
   "cell_type": "code",
   "execution_count": 231,
   "id": "3d67d540-8f4c-4c6b-a627-7b33b9706329",
   "metadata": {},
   "outputs": [
    {
     "name": "stdout",
     "output_type": "stream",
     "text": [
      "\n",
      " THE DATA FRAME LOOKS LIKE :\n",
      "------------------------------\n",
      "          W         x         Y         Z\n",
      "A  2.706850  0.628133  0.907969  0.503826\n",
      "B  0.651118 -0.319318 -0.848077  0.605965\n",
      "C -2.018168  0.740122  0.528813 -0.589001\n",
      "D  0.188695 -0.758872 -0.933237  0.955057\n",
      "E  0.190794  1.978757  2.605967  0.683509\n"
     ]
    }
   ],
   "source": [
    "np.random.seed(101)\n",
    "matrix_data=rn(5,4)\n",
    "row_labeles=[\"A\",\"B\",\"C\",\"D\",\"E\"]\n",
    "column_headings=[\"W\",\"x\",\"Y\",\"Z\"]\n",
    "df=pd.DataFrame(data=matrix_data,index=row_labeles,columns=column_headings)\n",
    "print(\"\\n THE DATA FRAME LOOKS LIKE :\\n\",\"-\"*29,sep=\"-\")\n",
    "print(df)"
   ]
  },
  {
   "cell_type": "markdown",
   "id": "72f70d0c-894d-4e65-a1f8-7ebf35bca4b4",
   "metadata": {},
   "source": [
    "INDEXING AND SLICING (COLUMNS)\n",
    "-"
   ]
  },
  {
   "cell_type": "markdown",
   "id": "4b6509b0-f0a8-4592-a594-d763541747c0",
   "metadata": {},
   "source": [
    "- BY BRACKET METHOD\n",
    "- BY DOT METHOD"
   ]
  },
  {
   "cell_type": "code",
   "execution_count": 215,
   "id": "e8f304e9-1f2b-4a56-8c08-b21620b124b2",
   "metadata": {},
   "outputs": [
    {
     "name": "stdout",
     "output_type": "stream",
     "text": [
      "\n",
      " THE DATA FRAME LOOKS LIKE :\n",
      "------------------------------\n",
      "          W         x         Y         Z\n",
      "A  2.706850  0.628133  0.907969  0.503826\n",
      "B  0.651118 -0.319318 -0.848077  0.605965\n",
      "C -2.018168  0.740122  0.528813 -0.589001\n",
      "D  0.188695 -0.758872 -0.933237  0.955057\n",
      "E  0.190794  1.978757  2.605967  0.683509\n",
      "\n",
      "THE 'X' COLUMN\n",
      "--------------------------\n",
      "A    0.628133\n",
      "B   -0.319318\n",
      "C    0.740122\n",
      "D   -0.758872\n",
      "E    1.978757\n",
      "Name: x, dtype: float64\n"
     ]
    }
   ],
   "source": [
    "print(\"\\nTHE 'X' COLUMN\\n\",\"-\"*25,sep=\"-\")\n",
    "print(df[\"x\"])"
   ]
  },
  {
   "cell_type": "code",
   "execution_count": 217,
   "id": "4f903576-7677-466b-917e-c6c529aac165",
   "metadata": {},
   "outputs": [
    {
     "name": "stdout",
     "output_type": "stream",
     "text": [
      "\n",
      " TYPE OF THE COLUMN :\n",
      "<class 'pandas.core.series.Series'>\n"
     ]
    }
   ],
   "source": [
    "print(\"\\n TYPE OF THE COLUMN :\") \n",
    "print(type(df['x']))"
   ]
  },
  {
   "cell_type": "code",
   "execution_count": 219,
   "id": "f8a2b780-bff8-4582-b41c-243c31975be9",
   "metadata": {},
   "outputs": [
    {
     "name": "stdout",
     "output_type": "stream",
     "text": [
      "\n",
      " The 'x ' and 'z' COLUMNS INDEXED BY PASSING A LIST\n",
      " -------------------------------------------------------\n",
      "          x         Z\n",
      "A  0.628133  0.503826\n",
      "B -0.319318  0.605965\n",
      "C  0.740122 -0.589001\n",
      "D -0.758872  0.955057\n",
      "E  1.978757  0.683509\n"
     ]
    }
   ],
   "source": [
    "print(\"\\n The 'x ' and 'z' COLUMNS INDEXED BY PASSING A LIST\\n\",\"-\"*55)\n",
    "print(df[['x','Z']])"
   ]
  },
  {
   "cell_type": "code",
   "execution_count": 221,
   "id": "955ffb66-4d2b-45b4-b343-93e0a12ff8a9",
   "metadata": {},
   "outputs": [
    {
     "name": "stdout",
     "output_type": "stream",
     "text": [
      "TYPE OF THE PAIR OF COLUMNS: type[['x', 'Z']]\n"
     ]
    }
   ],
   "source": [
    "print(\"TYPE OF THE PAIR OF COLUMNS:\",type[['x','Z']])"
   ]
  },
  {
   "cell_type": "markdown",
   "id": "d49d5204-e148-46a3-9f23-0643dd4b756a",
   "metadata": {},
   "source": [
    "FOR MORE THAN ONE COLUMN , THE OBJECT TURNS INTO A DATAFRAME"
   ]
  },
  {
   "cell_type": "code",
   "execution_count": 224,
   "id": "b7f27e7b-63b3-48fd-9973-61ca1ce21155",
   "metadata": {},
   "outputs": [
    {
     "name": "stdout",
     "output_type": "stream",
     "text": [
      "\n",
      "THE 'X' COLUMN ACCESSED BY DOT METHOD\n",
      " -------------------------------------------------------\n",
      "A    0.628133\n",
      "B   -0.319318\n",
      "C    0.740122\n",
      "D   -0.758872\n",
      "E    1.978757\n",
      "Name: x, dtype: float64\n"
     ]
    }
   ],
   "source": [
    "print(\"\\nTHE 'X' COLUMN ACCESSED BY DOT METHOD\\n\",\"-\"*55)\n",
    "print(df.x)"
   ]
  },
  {
   "cell_type": "markdown",
   "id": "d288c0fd-497e-437c-a9ab-a096aa246f02",
   "metadata": {},
   "source": [
    "CREATING AND DELETING A COLUMN OR ROW\n",
    "-"
   ]
  },
  {
   "cell_type": "code",
   "execution_count": 227,
   "id": "27589ea9-5d2e-4277-bd1f-6ce510c99af0",
   "metadata": {},
   "outputs": [
    {
     "name": "stdout",
     "output_type": "stream",
     "text": [
      "\n",
      "A COLUMN IS CREATED BY ASSIGNING IT IN RELATION TO AN EXISTING COLUMN\n",
      " ---------------------------------------------------------------------------\n",
      "          W         x         Y         Z       NEW  NEW(SUM OF X AND Z)\n",
      "A  2.706850  0.628133  0.907969  0.503826  1.131958             1.131958\n",
      "B  0.651118 -0.319318 -0.848077  0.605965  0.286647             0.286647\n",
      "C -2.018168  0.740122  0.528813 -0.589001  0.151122             0.151122\n",
      "D  0.188695 -0.758872 -0.933237  0.955057  0.196184             0.196184\n",
      "E  0.190794  1.978757  2.605967  0.683509  2.662266             2.662266\n"
     ]
    }
   ],
   "source": [
    "print(\"\\nA COLUMN IS CREATED BY ASSIGNING IT IN RELATION TO AN EXISTING COLUMN\\n\",\"-\"*75)\n",
    "df['NEW']=df['x']+df['Z']\n",
    "df['NEW(SUM OF X AND Z)']=df['x']+df['Z']\n",
    "print(df)"
   ]
  },
  {
   "cell_type": "code",
   "execution_count": 229,
   "id": "4abbe6f9-4958-4e48-a649-8f2f44997f36",
   "metadata": {},
   "outputs": [
    {
     "name": "stdout",
     "output_type": "stream",
     "text": [
      "\n",
      " A COLUMN IS DROPPED BY USING df.drop() METHOD \n",
      " -------------------------------------------------------\n"
     ]
    },
    {
     "data": {
      "text/html": [
       "<div>\n",
       "<style scoped>\n",
       "    .dataframe tbody tr th:only-of-type {\n",
       "        vertical-align: middle;\n",
       "    }\n",
       "\n",
       "    .dataframe tbody tr th {\n",
       "        vertical-align: top;\n",
       "    }\n",
       "\n",
       "    .dataframe thead th {\n",
       "        text-align: right;\n",
       "    }\n",
       "</style>\n",
       "<table border=\"1\" class=\"dataframe\">\n",
       "  <thead>\n",
       "    <tr style=\"text-align: right;\">\n",
       "      <th></th>\n",
       "      <th>W</th>\n",
       "      <th>x</th>\n",
       "      <th>Y</th>\n",
       "      <th>Z</th>\n",
       "      <th>NEW(SUM OF X AND Z)</th>\n",
       "    </tr>\n",
       "  </thead>\n",
       "  <tbody>\n",
       "    <tr>\n",
       "      <th>A</th>\n",
       "      <td>2.706850</td>\n",
       "      <td>0.628133</td>\n",
       "      <td>0.907969</td>\n",
       "      <td>0.503826</td>\n",
       "      <td>1.131958</td>\n",
       "    </tr>\n",
       "    <tr>\n",
       "      <th>B</th>\n",
       "      <td>0.651118</td>\n",
       "      <td>-0.319318</td>\n",
       "      <td>-0.848077</td>\n",
       "      <td>0.605965</td>\n",
       "      <td>0.286647</td>\n",
       "    </tr>\n",
       "    <tr>\n",
       "      <th>C</th>\n",
       "      <td>-2.018168</td>\n",
       "      <td>0.740122</td>\n",
       "      <td>0.528813</td>\n",
       "      <td>-0.589001</td>\n",
       "      <td>0.151122</td>\n",
       "    </tr>\n",
       "    <tr>\n",
       "      <th>D</th>\n",
       "      <td>0.188695</td>\n",
       "      <td>-0.758872</td>\n",
       "      <td>-0.933237</td>\n",
       "      <td>0.955057</td>\n",
       "      <td>0.196184</td>\n",
       "    </tr>\n",
       "    <tr>\n",
       "      <th>E</th>\n",
       "      <td>0.190794</td>\n",
       "      <td>1.978757</td>\n",
       "      <td>2.605967</td>\n",
       "      <td>0.683509</td>\n",
       "      <td>2.662266</td>\n",
       "    </tr>\n",
       "  </tbody>\n",
       "</table>\n",
       "</div>"
      ],
      "text/plain": [
       "          W         x         Y         Z  NEW(SUM OF X AND Z)\n",
       "A  2.706850  0.628133  0.907969  0.503826             1.131958\n",
       "B  0.651118 -0.319318 -0.848077  0.605965             0.286647\n",
       "C -2.018168  0.740122  0.528813 -0.589001             0.151122\n",
       "D  0.188695 -0.758872 -0.933237  0.955057             0.196184\n",
       "E  0.190794  1.978757  2.605967  0.683509             2.662266"
      ]
     },
     "execution_count": 229,
     "metadata": {},
     "output_type": "execute_result"
    }
   ],
   "source": [
    "print(\"\\n A COLUMN IS DROPPED BY USING df.drop() METHOD \\n\",\"-\"*55)\n",
    "df.drop('NEW',axis=1)"
   ]
  },
  {
   "cell_type": "code",
   "execution_count": null,
   "id": "d7564959-7771-4637-9f6d-487261c3c4b6",
   "metadata": {},
   "outputs": [],
   "source": [
    "df1=df.drop('A')\n",
    "print(\"\\nA ROW(INDEX) IS DROPPED BY USING df.drop() method and axis=0\\n\",\"-\"*60)\n",
    "print(df1)"
   ]
  },
  {
   "cell_type": "markdown",
   "id": "a033add5-b4df-406c-9000-8ac97875acde",
   "metadata": {},
   "source": [
    "SELECTING / INDEXING ROWS...!\n",
    "-"
   ]
  },
  {
   "cell_type": "markdown",
   "id": "674ba4c7-7a30-4f98-ab2a-102dd51c96ad",
   "metadata": {},
   "source": [
    "-LABEL-BASED 'loc' METHOD"
   ]
  },
  {
   "cell_type": "markdown",
   "id": "40e358bf-1728-4bda-9d64-e06a6d9553cf",
   "metadata": {},
   "source": [
    "-INDEX(NUMERIC) 'iloc' METHOD"
   ]
  },
  {
   "cell_type": "code",
   "execution_count": null,
   "id": "77a7843b-5501-408e-8337-4b1a9e426911",
   "metadata": {},
   "outputs": [],
   "source": [
    "print(\"\\nLABEL - BASED 'loc' METHOD CAN BE USED FOR SELECTING ROWS \\n\",\"-\"*60)\n",
    "print(\"\\n SINGLE ROW\\n\")\n",
    "print(df.loc['C'])"
   ]
  },
  {
   "cell_type": "code",
   "execution_count": null,
   "id": "d38baba8-700f-4c08-89a9-8f1c259f5493",
   "metadata": {},
   "outputs": [],
   "source": [
    "print(\"\\nMULTIPLE ROWS\\n\")\n",
    "print(df.loc[['B','C']])"
   ]
  },
  {
   "cell_type": "code",
   "execution_count": null,
   "id": "7f76408f-7b40-48d7-9c23-1a840008bf3a",
   "metadata": {},
   "outputs": [],
   "source": [
    "print(\"\\n INDEX POSITION BASED 'iloc' method can be used for selecting rows\\n\",\"-\"*60)\n",
    "print(\"\\n Single Row\\n\")\n",
    "print(df.iloc[2])      "
   ]
  },
  {
   "cell_type": "code",
   "execution_count": null,
   "id": "ceb3bf6f-a828-4713-b3d0-fc9d327a4de5",
   "metadata": {},
   "outputs": [],
   "source": [
    "print(\"MULTIPLE ROWS\\n\")\n",
    "print(df.iloc[[1,2]])      "
   ]
  },
  {
   "cell_type": "markdown",
   "id": "b2b440f4-7ace-4683-af0a-c606c3b76444",
   "metadata": {},
   "source": [
    "SUBSETTING DATAFRAME...!\n",
    "-"
   ]
  },
  {
   "cell_type": "code",
   "execution_count": null,
   "id": "5bc8daca-139f-40b8-ac38-6149adab7c91",
   "metadata": {},
   "outputs": [],
   "source": [
    "print(\"\\n THE DATAFRAME\\n\",\"-\"*45)\n",
    "print(df)"
   ]
  },
  {
   "cell_type": "code",
   "execution_count": null,
   "id": "4faa0e0b-c690-4b3b-811e-3970ba5ecd61",
   "metadata": {},
   "outputs": [],
   "source": [
    "print(\"\\nElement at row 'B' and column y is \\n\",\"-\"*55)\n",
    "print(df.loc['B','Y'])"
   ]
  },
  {
   "cell_type": "markdown",
   "id": "4d4ffe73-a1cf-4918-b1a4-5a18ab3ce607",
   "metadata": {},
   "source": [
    "CONDITIONAL SELECTION ,INDEX,RESETTING,MULTI-INDEX\n",
    "-"
   ]
  },
  {
   "cell_type": "markdown",
   "id": "3de0d324-7cb0-4458-93c3-f4b30a7f1558",
   "metadata": {},
   "source": [
    "-BOOLEAN IDEA OF CONDITIONAL CHECK AND BOOLEAN DATAFRAME"
   ]
  },
  {
   "cell_type": "code",
   "execution_count": 149,
   "id": "ea7a68af-7217-4b1a-97a9-5f98e3285ebc",
   "metadata": {},
   "outputs": [
    {
     "name": "stdout",
     "output_type": "stream",
     "text": [
      "\n",
      "BOOLEAN DATAFRAME WHERE WE ARE CHECKING IFTHE VALUES ARE GRAETER THAN ZERO\n",
      " ---------------------------------------------------------------------------\n",
      "       W      X      Y      Z\n",
      "A   True   True   True   True\n",
      "B   True  False  False   True\n",
      "C  False   True   True  False\n",
      "D   True  False  False   True\n",
      "E   True   True   True   True\n"
     ]
    }
   ],
   "source": [
    "print(\"\\nBOOLEAN DATAFRAME WHERE WE ARE CHECKING IFTHE VALUES ARE GRAETER THAN ZERO\\n\",\"-\"*75)\n",
    "print(df>0)"
   ]
  },
  {
   "cell_type": "code",
   "execution_count": 151,
   "id": "eb2bc3cf-21aa-4038-957a-fbf4e2c75e38",
   "metadata": {},
   "outputs": [
    {
     "name": "stdout",
     "output_type": "stream",
     "text": [
      "       W      X      Y      Z\n",
      "A   True   True   True   True\n",
      "B   True  False  False   True\n",
      "C  False   True   True  False\n"
     ]
    }
   ],
   "source": [
    "print(df.loc[['A','B','C']]>0)"
   ]
  },
  {
   "cell_type": "code",
   "execution_count": 153,
   "id": "c59fa3f7-bd01-40be-a50c-54e20cacbe35",
   "metadata": {},
   "outputs": [
    {
     "name": "stdout",
     "output_type": "stream",
     "text": [
      "\n",
      "DATAFRAME INDEXED BY BOOLEAN DATAFRAME\n",
      " ---------------------------------------------\n",
      "          W         X         Y         Z\n",
      "A  2.706850  0.628133  0.907969  0.503826\n",
      "B  0.651118       NaN       NaN  0.605965\n",
      "C       NaN  0.740122  0.528813       NaN\n",
      "D  0.188695       NaN       NaN  0.955057\n",
      "E  0.190794  1.978757  2.605967  0.683509\n"
     ]
    }
   ],
   "source": [
    "booldf=df>0\n",
    "print(\"\\nDATAFRAME INDEXED BY BOOLEAN DATAFRAME\\n\",\"-\"*45)\n",
    "print(df[booldf])"
   ]
  },
  {
   "cell_type": "markdown",
   "id": "33d11de7-b457-4504-b255-db1878e234e9",
   "metadata": {},
   "source": [
    "PASSING BOOLEAN SERIES TO CONDITIONALLY SUBSET THE DATAFRAME\n",
    "-"
   ]
  },
  {
   "cell_type": "code",
   "execution_count": 156,
   "id": "c07b1600-c647-41ca-88a5-75f12cf999c2",
   "metadata": {},
   "outputs": [
    {
     "data": {
      "text/plain": [
       "matrix([[ 22,  60,   1],\n",
       "        [ 42,  70, 148],\n",
       "        [ 30,  62, 125],\n",
       "        [ 15,  68, 160],\n",
       "        [ 25,  62, 152]])"
      ]
     },
     "execution_count": 156,
     "metadata": {},
     "output_type": "execute_result"
    }
   ],
   "source": [
    "matrix_data=np.matrix('22,60,1;42,70,148;30,62,125;15,68,160;25,62,152');\n",
    "matrix_data"
   ]
  },
  {
   "cell_type": "code",
   "execution_count": 158,
   "id": "10820ad7-3ea4-44f4-9cc4-0865987864f5",
   "metadata": {},
   "outputs": [
    {
     "data": {
      "text/html": [
       "<div>\n",
       "<style scoped>\n",
       "    .dataframe tbody tr th:only-of-type {\n",
       "        vertical-align: middle;\n",
       "    }\n",
       "\n",
       "    .dataframe tbody tr th {\n",
       "        vertical-align: top;\n",
       "    }\n",
       "\n",
       "    .dataframe thead th {\n",
       "        text-align: right;\n",
       "    }\n",
       "</style>\n",
       "<table border=\"1\" class=\"dataframe\">\n",
       "  <thead>\n",
       "    <tr style=\"text-align: right;\">\n",
       "      <th></th>\n",
       "      <th>age</th>\n",
       "      <th>height</th>\n",
       "      <th>weight</th>\n",
       "    </tr>\n",
       "  </thead>\n",
       "  <tbody>\n",
       "    <tr>\n",
       "      <th>A</th>\n",
       "      <td>22</td>\n",
       "      <td>60</td>\n",
       "      <td>1</td>\n",
       "    </tr>\n",
       "    <tr>\n",
       "      <th>B</th>\n",
       "      <td>42</td>\n",
       "      <td>70</td>\n",
       "      <td>148</td>\n",
       "    </tr>\n",
       "    <tr>\n",
       "      <th>C</th>\n",
       "      <td>30</td>\n",
       "      <td>62</td>\n",
       "      <td>125</td>\n",
       "    </tr>\n",
       "    <tr>\n",
       "      <th>D</th>\n",
       "      <td>15</td>\n",
       "      <td>68</td>\n",
       "      <td>160</td>\n",
       "    </tr>\n",
       "    <tr>\n",
       "      <th>E</th>\n",
       "      <td>25</td>\n",
       "      <td>62</td>\n",
       "      <td>152</td>\n",
       "    </tr>\n",
       "  </tbody>\n",
       "</table>\n",
       "</div>"
      ],
      "text/plain": [
       "   age  height  weight\n",
       "A   22      60       1\n",
       "B   42      70     148\n",
       "C   30      62     125\n",
       "D   15      68     160\n",
       "E   25      62     152"
      ]
     },
     "execution_count": 158,
     "metadata": {},
     "output_type": "execute_result"
    }
   ],
   "source": [
    "row_labels=['A','B','C','D','E']\n",
    "column_headings=['age','height','weight']\n",
    "df=pd.DataFrame(data=matrix_data,index=row_labels,columns=column_headings)\n",
    "df"
   ]
  },
  {
   "cell_type": "code",
   "execution_count": 160,
   "id": "8468d867-2503-4761-a73c-89645a846a5e",
   "metadata": {},
   "outputs": [
    {
     "name": "stdout",
     "output_type": "stream",
     "text": [
      "\n",
      " Rows with height>65 inch\n",
      "-----------------------------------\n",
      "   age  height  weight\n",
      "B   42      70     148\n",
      "D   15      68     160\n"
     ]
    }
   ],
   "source": [
    "print(\"\\n Rows with height>65 inch\\n\",\"-\"*35,sep=\"\")\n",
    "print(df[df['height']>65])"
   ]
  },
  {
   "cell_type": "code",
   "execution_count": 162,
   "id": "2380f390-0d51-40af-9e3c-7202f37af131",
   "metadata": {},
   "outputs": [
    {
     "name": "stdout",
     "output_type": "stream",
     "text": [
      "\n",
      " ROWS WITH HEIGHT >65 inch & weight >145\n",
      " -------------------------------------------------------\n",
      "   age  height  weight\n",
      "B   42      70     148\n",
      "D   15      68     160\n"
     ]
    }
   ],
   "source": [
    "booldf1=df['height']>65\n",
    "booldf2=df['weight']>145\n",
    "print(\"\\n ROWS WITH HEIGHT >65 inch & weight >145\\n\",\"-\"*55)\n",
    "print(df[(booldf1) & (booldf2)])"
   ]
  },
  {
   "cell_type": "code",
   "execution_count": 164,
   "id": "829fdd09-cb92-4dc5-a4c5-e3bfbba058d0",
   "metadata": {},
   "outputs": [
    {
     "name": "stdout",
     "output_type": "stream",
     "text": [
      "\n",
      "Dataframe with only age and weight columns whose height >65 inch \n",
      " ------------------------------------------------------------\n",
      "   age  weight\n",
      "B   42     148\n",
      "D   15     160\n"
     ]
    }
   ],
   "source": [
    "print(\"\\nDataframe with only age and weight columns whose height >65 inch \\n\",\"-\"*60)\n",
    "print(df[booldf1][['age','weight']])"
   ]
  },
  {
   "cell_type": "markdown",
   "id": "09f2e7c8-bc08-4466-8fc9-e3504d9a7bfc",
   "metadata": {},
   "source": [
    "RE-SETTING AND SETTING INDEX\n",
    "-"
   ]
  },
  {
   "cell_type": "code",
   "execution_count": 167,
   "id": "650d768a-98e5-49f6-a481-0c0e934c6679",
   "metadata": {},
   "outputs": [
    {
     "name": "stdout",
     "output_type": "stream",
     "text": [
      "\n",
      " AFTER RESETTING INDEX\n",
      " -----------------------------------\n",
      "  index  age  height  weight\n",
      "0     A   22      60       1\n",
      "1     B   42      70     148\n",
      "2     C   30      62     125\n",
      "3     D   15      68     160\n",
      "4     E   25      62     152\n"
     ]
    }
   ],
   "source": [
    "print(\"\\n AFTER RESETTING INDEX\\n\",\"-\"*35)\n",
    "print(df.reset_index())"
   ]
  },
  {
   "cell_type": "code",
   "execution_count": 169,
   "id": "9d871977-959d-4fd2-87b6-08eb5075d0f2",
   "metadata": {},
   "outputs": [
    {
     "name": "stdout",
     "output_type": "stream",
     "text": [
      "\n",
      "AFTER RESETTING INDEX WITH 'DROP' OPTION TRUE\n",
      " ---------------------------------------------\n",
      "   age  height  weight\n",
      "0   22      60       1\n",
      "1   42      70     148\n",
      "2   30      62     125\n",
      "3   15      68     160\n",
      "4   25      62     152\n"
     ]
    }
   ],
   "source": [
    "print(\"\\nAFTER RESETTING INDEX WITH 'DROP' OPTION TRUE\\n\",\"-\"*45)\n",
    "print(df.reset_index(drop=True))"
   ]
  },
  {
   "cell_type": "code",
   "execution_count": 171,
   "id": "a7939e01-18c1-4577-91f4-1f540cfc66ec",
   "metadata": {},
   "outputs": [
    {
     "name": "stdout",
     "output_type": "stream",
     "text": [
      "\n",
      "ADDING A NEW COLUMN 'PROFESSION'\n",
      " ---------------------------------------------\n",
      "   age  height  weight profession\n",
      "A   22      60       1    student\n",
      "B   42      70     148    teacher\n",
      "C   30      62     125   engineer\n",
      "D   15      68     160     doctor\n",
      "E   25      62     152      nurse\n"
     ]
    }
   ],
   "source": [
    "print(\"\\nADDING A NEW COLUMN 'PROFESSION'\\n\",'-'*45)\n",
    "df['profession']='student teacher engineer doctor nurse'.split()\n",
    "print(df)"
   ]
  },
  {
   "cell_type": "code",
   "execution_count": 173,
   "id": "5908e0ed-7938-4622-867a-fb91f34354ba",
   "metadata": {},
   "outputs": [
    {
     "name": "stdout",
     "output_type": "stream",
     "text": [
      "\n",
      "Setting 'profession' column as index\n",
      "---------------------------------------------\n",
      "            age  height  weight\n",
      "profession                     \n",
      "student      22      60       1\n",
      "teacher      42      70     148\n",
      "engineer     30      62     125\n",
      "doctor       15      68     160\n",
      "nurse        25      62     152\n"
     ]
    }
   ],
   "source": [
    "print(\"\\nSetting 'profession' column as index\\n\",\"-\"*45,sep='')\n",
    "print(df.set_index('profession'))"
   ]
  },
  {
   "cell_type": "markdown",
   "id": "05c18b09-9230-4c27-bcd6-0c3f04aa1401",
   "metadata": {},
   "source": [
    "MULTI-INDEXING\n",
    "-"
   ]
  },
  {
   "cell_type": "code",
   "execution_count": 176,
   "id": "4b6f6bea-1537-43a1-902c-39ecb7038eeb",
   "metadata": {},
   "outputs": [
    {
     "name": "stdout",
     "output_type": "stream",
     "text": [
      "\n",
      "Tuple pairs after the zip and list command\n",
      " ---------------------------------------------\n",
      "[('61', 1), ('61', 2), ('61', 3), ('62', 1), ('62', 2), ('62', 3)]\n"
     ]
    }
   ],
   "source": [
    "#index levels\n",
    "outside=['61','61','61','62','62','62']\n",
    "inside=[1,2,3,1,2,3]\n",
    "hier_index=list(zip(outside,inside))\n",
    "print(\"\\nTuple pairs after the zip and list command\\n\",\"-\"*45)\n",
    "print(hier_index)"
   ]
  },
  {
   "cell_type": "code",
   "execution_count": 178,
   "id": "647c06a3-c47f-4aee-baa9-7e7fcd3e352b",
   "metadata": {},
   "outputs": [
    {
     "name": "stdout",
     "output_type": "stream",
     "text": [
      "\n",
      "Index hirarachy type\n",
      " -------------------------\n",
      "<class 'list'>\n"
     ]
    }
   ],
   "source": [
    "print(\"\\nIndex hirarachy type\\n\",'-'*25)\n",
    "print(type(hier_index))"
   ]
  },
  {
   "cell_type": "code",
   "execution_count": 180,
   "id": "70730a03-7ee4-4e98-9397-bb7a928dbad4",
   "metadata": {},
   "outputs": [
    {
     "name": "stdout",
     "output_type": "stream",
     "text": [
      "\n",
      "CREATING DATAFRAME WITH MULTI-INDEXING\n",
      " -------------------------------------\n",
      "            A     B     C\n",
      "(61, 1)  2.71  0.63  0.91\n",
      "(61, 2)  0.50  0.65 -0.32\n",
      "(61, 3) -0.85  0.61 -2.02\n",
      "(62, 1)  0.74  0.53 -0.59\n",
      "(62, 2)  0.19 -0.76 -0.93\n",
      "(62, 3)  0.96  0.19  1.98\n"
     ]
    }
   ],
   "source": [
    "print(\"\\nCREATING DATAFRAME WITH MULTI-INDEXING\\n\",\"-\"*37)\n",
    "np.random.seed(101)\n",
    "df1=pd.DataFrame(data=np.round(rn(6,3),2),index=hier_index,columns=['A','B','C'])\n",
    "print(df1)"
   ]
  },
  {
   "cell_type": "code",
   "execution_count": 182,
   "id": "cd9df1ce-9e0e-4136-96ef-46f7fd8bba62",
   "metadata": {},
   "outputs": [
    {
     "name": "stdout",
     "output_type": "stream",
     "text": [
      "\n",
      "NAMING THE INDEXES BY 'INDEX.NAMES' METHOD\n",
      " ---------------------------------------------\n",
      "            A     B     C\n",
      "(61, 1)  2.71  0.63  0.91\n",
      "(61, 2)  0.50  0.65 -0.32\n",
      "(61, 3) -0.85  0.61 -2.02\n",
      "(62, 1)  0.74  0.53 -0.59\n",
      "(62, 2)  0.19 -0.76 -0.93\n",
      "(62, 3)  0.96  0.19  1.98\n"
     ]
    }
   ],
   "source": [
    "print(\"\\nNAMING THE INDEXES BY 'INDEX.NAMES' METHOD\\n\",\"-\"*45)\n",
    "print(df1)"
   ]
  },
  {
   "cell_type": "markdown",
   "id": "32507f5b-764a-49c1-b173-ba2e8a02b386",
   "metadata": {},
   "source": [
    "MISSING VALUES\n",
    "-"
   ]
  },
  {
   "cell_type": "code",
   "execution_count": 185,
   "id": "56c543e8-ac00-45d1-9f70-471764f3beb3",
   "metadata": {},
   "outputs": [
    {
     "data": {
      "text/html": [
       "<div>\n",
       "<style scoped>\n",
       "    .dataframe tbody tr th:only-of-type {\n",
       "        vertical-align: middle;\n",
       "    }\n",
       "\n",
       "    .dataframe tbody tr th {\n",
       "        vertical-align: top;\n",
       "    }\n",
       "\n",
       "    .dataframe thead th {\n",
       "        text-align: right;\n",
       "    }\n",
       "</style>\n",
       "<table border=\"1\" class=\"dataframe\">\n",
       "  <thead>\n",
       "    <tr style=\"text-align: right;\">\n",
       "      <th></th>\n",
       "      <th>A</th>\n",
       "      <th>B</th>\n",
       "      <th>C</th>\n",
       "    </tr>\n",
       "  </thead>\n",
       "  <tbody>\n",
       "    <tr>\n",
       "      <th>0</th>\n",
       "      <td>1.0</td>\n",
       "      <td>5.0</td>\n",
       "      <td>1</td>\n",
       "    </tr>\n",
       "    <tr>\n",
       "      <th>1</th>\n",
       "      <td>2.0</td>\n",
       "      <td>NaN</td>\n",
       "      <td>2</td>\n",
       "    </tr>\n",
       "    <tr>\n",
       "      <th>2</th>\n",
       "      <td>NaN</td>\n",
       "      <td>NaN</td>\n",
       "      <td>3</td>\n",
       "    </tr>\n",
       "  </tbody>\n",
       "</table>\n",
       "</div>"
      ],
      "text/plain": [
       "     A    B  C\n",
       "0  1.0  5.0  1\n",
       "1  2.0  NaN  2\n",
       "2  NaN  NaN  3"
      ]
     },
     "execution_count": 185,
     "metadata": {},
     "output_type": "execute_result"
    }
   ],
   "source": [
    "df=pd.DataFrame({'A':[1,2,np.nan],'B':[5,np.nan,np.nan],'C':[1,2,3]})\n",
    "df"
   ]
  },
  {
   "cell_type": "code",
   "execution_count": 187,
   "id": "330fd3ec-4f5a-4271-994e-22fbd1915fcd",
   "metadata": {},
   "outputs": [
    {
     "data": {
      "text/html": [
       "<div>\n",
       "<style scoped>\n",
       "    .dataframe tbody tr th:only-of-type {\n",
       "        vertical-align: middle;\n",
       "    }\n",
       "\n",
       "    .dataframe tbody tr th {\n",
       "        vertical-align: top;\n",
       "    }\n",
       "\n",
       "    .dataframe thead th {\n",
       "        text-align: right;\n",
       "    }\n",
       "</style>\n",
       "<table border=\"1\" class=\"dataframe\">\n",
       "  <thead>\n",
       "    <tr style=\"text-align: right;\">\n",
       "      <th></th>\n",
       "      <th>A</th>\n",
       "      <th>B</th>\n",
       "      <th>C</th>\n",
       "    </tr>\n",
       "    <tr>\n",
       "      <th>states</th>\n",
       "      <th></th>\n",
       "      <th></th>\n",
       "      <th></th>\n",
       "    </tr>\n",
       "  </thead>\n",
       "  <tbody>\n",
       "    <tr>\n",
       "      <th>CA</th>\n",
       "      <td>1.0</td>\n",
       "      <td>5.0</td>\n",
       "      <td>1</td>\n",
       "    </tr>\n",
       "    <tr>\n",
       "      <th>NV</th>\n",
       "      <td>2.0</td>\n",
       "      <td>NaN</td>\n",
       "      <td>2</td>\n",
       "    </tr>\n",
       "    <tr>\n",
       "      <th>AZ</th>\n",
       "      <td>NaN</td>\n",
       "      <td>NaN</td>\n",
       "      <td>3</td>\n",
       "    </tr>\n",
       "  </tbody>\n",
       "</table>\n",
       "</div>"
      ],
      "text/plain": [
       "          A    B  C\n",
       "states             \n",
       "CA      1.0  5.0  1\n",
       "NV      2.0  NaN  2\n",
       "AZ      NaN  NaN  3"
      ]
     },
     "execution_count": 187,
     "metadata": {},
     "output_type": "execute_result"
    }
   ],
   "source": [
    "df['states']=\"CA NV AZ\".split()\n",
    "df.set_index(\"states\",inplace=True)\n",
    "df"
   ]
  },
  {
   "cell_type": "markdown",
   "id": "7fc5fae8-25e1-43f0-beb3-c35c7c981811",
   "metadata": {},
   "source": [
    "PANDAS 'DROPNA' METHOD\n",
    "-"
   ]
  },
  {
   "cell_type": "code",
   "execution_count": 190,
   "id": "987fe2e0-66c1-4ac3-a161-93563bb0a5c5",
   "metadata": {},
   "outputs": [
    {
     "name": "stdout",
     "output_type": "stream",
     "text": [
      "\n",
      "Dropping any rows with a Nan value\n",
      " -----------------------------------\n",
      "          A    B  C\n",
      "states             \n",
      "CA      1.0  5.0  1\n"
     ]
    }
   ],
   "source": [
    "print(\"\\nDropping any rows with a Nan value\\n\",\"-\"*35)\n",
    "print(df.dropna(axis=0))"
   ]
  },
  {
   "cell_type": "code",
   "execution_count": 233,
   "id": "20cf09f5-2fa4-486a-bccd-e32aae1224b0",
   "metadata": {},
   "outputs": [
    {
     "name": "stdout",
     "output_type": "stream",
     "text": [
      "\n",
      "Dropping any column with a NaN value\n",
      " -----------------------------------\n",
      "          W         x         Y         Z\n",
      "A  2.706850  0.628133  0.907969  0.503826\n",
      "B  0.651118 -0.319318 -0.848077  0.605965\n",
      "C -2.018168  0.740122  0.528813 -0.589001\n",
      "D  0.188695 -0.758872 -0.933237  0.955057\n",
      "E  0.190794  1.978757  2.605967  0.683509\n"
     ]
    }
   ],
   "source": [
    "print(\"\\nDropping any column with a NaN value\\n\",\"-\"*35)\n",
    "print(df.dropna(axis=1))"
   ]
  },
  {
   "cell_type": "code",
   "execution_count": 235,
   "id": "45f1e1bb-7173-46b9-91ee-08399d142e0f",
   "metadata": {},
   "outputs": [
    {
     "name": "stdout",
     "output_type": "stream",
     "text": [
      "\n",
      "Dropping a row with a minimum 2 Nan value using 'thresh' parameter \n",
      " --------------------------------------------------------------------\n",
      "          W         x         Y         Z\n",
      "A  2.706850  0.628133  0.907969  0.503826\n",
      "B  0.651118 -0.319318 -0.848077  0.605965\n",
      "C -2.018168  0.740122  0.528813 -0.589001\n",
      "D  0.188695 -0.758872 -0.933237  0.955057\n",
      "E  0.190794  1.978757  2.605967  0.683509\n"
     ]
    }
   ],
   "source": [
    "print(\"\\nDropping a row with a minimum 2 Nan value using 'thresh' parameter \\n\",\"-\"*68)\n",
    "print(df.dropna(axis=0,thresh=2))"
   ]
  },
  {
   "cell_type": "markdown",
   "id": "31005c05-d0e5-4cf2-b85c-a8e2ae9cf815",
   "metadata": {},
   "source": [
    "PANDAS FILLNA METHOD\n",
    "-"
   ]
  },
  {
   "cell_type": "code",
   "execution_count": 240,
   "id": "72e3335c-841f-4523-a82d-9d2442d4e9d5",
   "metadata": {},
   "outputs": [
    {
     "name": "stdout",
     "output_type": "stream",
     "text": [
      "\n",
      "FILLING VALUES WITH A DEFAULT VALUE\n",
      " -----------------------------------\n",
      "          W         x         Y         Z\n",
      "A  2.706850  0.628133  0.907969  0.503826\n",
      "B  0.651118 -0.319318 -0.848077  0.605965\n",
      "C -2.018168  0.740122  0.528813 -0.589001\n",
      "D  0.188695 -0.758872 -0.933237  0.955057\n",
      "E  0.190794  1.978757  2.605967  0.683509\n"
     ]
    }
   ],
   "source": [
    "print(\"\\nFILLING VALUES WITH A DEFAULT VALUE\\n\",\"-\"*35)\n",
    "print(df.fillna(value='FILl VALUE'))"
   ]
  },
  {
   "cell_type": "markdown",
   "id": "a41833ef-061a-46a1-888b-1238cbe310d3",
   "metadata": {},
   "source": [
    "GROUPBY METHOD\n",
    "-"
   ]
  },
  {
   "cell_type": "code",
   "execution_count": 252,
   "id": "96cfaab6-1fb8-4239-9bd7-7461ae73df60",
   "metadata": {},
   "outputs": [
    {
     "data": {
      "text/plain": [
       "{'company': ['goog', 'goog', 'msft', 'msft', 'fb', 'fb'],\n",
       " 'person': ['sam', 'charlie', 'any', 'venessa', 'car1', 'sarah'],\n",
       " 'sales': [200, 120, 340, 124, 243, 350]}"
      ]
     },
     "execution_count": 252,
     "metadata": {},
     "output_type": "execute_result"
    }
   ],
   "source": [
    "#CREATING A DATAFRAME\n",
    "data={'company':['goog','goog','msft','msft','fb','fb'],'person':['sam','charlie','any','venessa','car1','sarah'],'sales':[200,120,340,124,243,350]}\n",
    "data"
   ]
  },
  {
   "cell_type": "code",
   "execution_count": 254,
   "id": "1fb9284d-3221-4d4c-b3aa-32c1b4fee26d",
   "metadata": {},
   "outputs": [
    {
     "name": "stdout",
     "output_type": "stream",
     "text": [
      "  company   person  sales\n",
      "0    goog      sam    200\n",
      "1    goog  charlie    120\n",
      "2    msft      any    340\n",
      "3    msft  venessa    124\n",
      "4      fb     car1    243\n",
      "5      fb    sarah    350\n"
     ]
    }
   ],
   "source": [
    "df=pd.DataFrame(data)\n",
    "print(df)"
   ]
  },
  {
   "cell_type": "code",
   "execution_count": 264,
   "id": "a0ecaa9d-41c8-4efe-a2ce-3137eed4f5bc",
   "metadata": {},
   "outputs": [
    {
     "name": "stdout",
     "output_type": "stream",
     "text": [
      "\n",
      " Grouping by 'company' column and listing sum of sales\n",
      " -------------------------------------------------------\n",
      "             person  sales\n",
      "company                   \n",
      "fb        car1sarah    593\n",
      "goog     samcharlie    320\n",
      "msft     anyvenessa    464\n"
     ]
    }
   ],
   "source": [
    "bycomp=df.groupby(\"company\")\n",
    "print(\"\\n Grouping by 'company' column and listing sum of sales\\n\",\"-\"*55)\n",
    "print(bycomp.sum())"
   ]
  },
  {
   "cell_type": "code",
   "execution_count": 266,
   "id": "4cbf4af5-1d18-416b-a04f-310a71d88d5d",
   "metadata": {},
   "outputs": [
    {
     "name": "stdout",
     "output_type": "stream",
     "text": [
      "ALL IN ONE LINE OF COMMAND(STATS FOR 'FB') -----------------------------------------------------------------\n",
      "   sales                                                       \n",
      "   count   mean        std    min     25%    50%     75%    max\n",
      "fb   2.0  296.5  75.660426  243.0  269.75  296.5  323.25  350.0\n"
     ]
    }
   ],
   "source": [
    "print(\"ALL IN ONE LINE OF COMMAND(STATS FOR 'FB')\",\"-\"*65)\n",
    "print(pd.DataFrame(df.groupby(\"company\").describe().loc['fb']).transpose())"
   ]
  },
  {
   "cell_type": "code",
   "execution_count": 268,
   "id": "05981a1d-13c9-457e-8629-eee854a75cf3",
   "metadata": {},
   "outputs": [
    {
     "name": "stdout",
     "output_type": "stream",
     "text": [
      "\n",
      "same type of extraction with little different command\n",
      " --------------------------------------------------------------------\n",
      "        sales                                                      \n",
      "        count   mean         std    min    25%    50%    75%    max\n",
      "company                                                            \n",
      "goog      2.0  160.0   56.568542  120.0  140.0  160.0  180.0  200.0\n",
      "msft      2.0  232.0  152.735065  124.0  178.0  232.0  286.0  340.0\n"
     ]
    }
   ],
   "source": [
    "print(\"\\nsame type of extraction with little different command\\n\",\"-\"*68)\n",
    "print(df.groupby(\"company\").describe().loc[['goog','msft']])"
   ]
  },
  {
   "cell_type": "markdown",
   "id": "a7a6ad98-66f6-4c10-b78d-062804a1aa58",
   "metadata": {},
   "source": [
    "CONCATENATION\n",
    "-"
   ]
  },
  {
   "cell_type": "code",
   "execution_count": 281,
   "id": "d3c46956-167f-4293-af00-8512265a0702",
   "metadata": {},
   "outputs": [
    {
     "name": "stdout",
     "output_type": "stream",
     "text": [
      "    a   b   c   d\n",
      "0  a0  b0  c0  d0\n",
      "1  a1  b1  c1  d1\n",
      "2  a2  b2  c2  d2\n",
      "3  a3  b3  c3  d3\n",
      "    a   b   c   d\n",
      "4  a4  b4  c4  d4\n",
      "5  a5  b5  c5  d5\n",
      "6  a6  b6  c6  d6\n",
      "7  a7  b7  c7  d7\n",
      "      a    b    c    d\n",
      "8    a8   b8   c8   d8\n",
      "9    a9   b9   c9   d9\n",
      "10  a10  b10  c10  d10\n",
      "11  a11  b11  c11  d11\n"
     ]
    }
   ],
   "source": [
    "#CREATING DATA FRAMES\n",
    "df1=pd.DataFrame({'a':['a0','a1','a2','a3'],'b':['b0','b1','b2','b3'],'c':['c0','c1','c2','c3'],'d':['d0','d1','d2','d3']},index=[0,1,2,3])\n",
    "df2=pd.DataFrame({'a':['a4','a5','a6','a7'],'b':['b4','b5','b6','b7'],'c':['c4','c5','c6','c7'],'d':['d4','d5','d6','d7']},index=[4,5,6,7])\n",
    "df3=pd.DataFrame({'a':['a8','a9','a10','a11'],'b':['b8','b9','b10','b11'],'c':['c8','c9','c10','c11'],'d':['d8','d9','d10','d11']},index=[8,9,10,11])\n",
    "print(df1)\n",
    "print(df2)\n",
    "print(df3)"
   ]
  },
  {
   "cell_type": "code",
   "execution_count": 293,
   "id": "2b610527-3cfb-4449-9419-dca3e4ae4761",
   "metadata": {},
   "outputs": [
    {
     "name": "stdout",
     "output_type": "stream",
     "text": [
      "\n",
      " AFTER CONCATENATION ALONG ROW\n",
      " ------------------------------\n"
     ]
    },
    {
     "data": {
      "text/html": [
       "<div>\n",
       "<style scoped>\n",
       "    .dataframe tbody tr th:only-of-type {\n",
       "        vertical-align: middle;\n",
       "    }\n",
       "\n",
       "    .dataframe tbody tr th {\n",
       "        vertical-align: top;\n",
       "    }\n",
       "\n",
       "    .dataframe thead th {\n",
       "        text-align: right;\n",
       "    }\n",
       "</style>\n",
       "<table border=\"1\" class=\"dataframe\">\n",
       "  <thead>\n",
       "    <tr style=\"text-align: right;\">\n",
       "      <th></th>\n",
       "      <th>a</th>\n",
       "      <th>b</th>\n",
       "      <th>c</th>\n",
       "      <th>d</th>\n",
       "    </tr>\n",
       "  </thead>\n",
       "  <tbody>\n",
       "    <tr>\n",
       "      <th>0</th>\n",
       "      <td>a0</td>\n",
       "      <td>b0</td>\n",
       "      <td>c0</td>\n",
       "      <td>d0</td>\n",
       "    </tr>\n",
       "    <tr>\n",
       "      <th>1</th>\n",
       "      <td>a1</td>\n",
       "      <td>b1</td>\n",
       "      <td>c1</td>\n",
       "      <td>d1</td>\n",
       "    </tr>\n",
       "    <tr>\n",
       "      <th>2</th>\n",
       "      <td>a2</td>\n",
       "      <td>b2</td>\n",
       "      <td>c2</td>\n",
       "      <td>d2</td>\n",
       "    </tr>\n",
       "    <tr>\n",
       "      <th>3</th>\n",
       "      <td>a3</td>\n",
       "      <td>b3</td>\n",
       "      <td>c3</td>\n",
       "      <td>d3</td>\n",
       "    </tr>\n",
       "    <tr>\n",
       "      <th>4</th>\n",
       "      <td>a4</td>\n",
       "      <td>b4</td>\n",
       "      <td>c4</td>\n",
       "      <td>d4</td>\n",
       "    </tr>\n",
       "    <tr>\n",
       "      <th>5</th>\n",
       "      <td>a5</td>\n",
       "      <td>b5</td>\n",
       "      <td>c5</td>\n",
       "      <td>d5</td>\n",
       "    </tr>\n",
       "    <tr>\n",
       "      <th>6</th>\n",
       "      <td>a6</td>\n",
       "      <td>b6</td>\n",
       "      <td>c6</td>\n",
       "      <td>d6</td>\n",
       "    </tr>\n",
       "    <tr>\n",
       "      <th>7</th>\n",
       "      <td>a7</td>\n",
       "      <td>b7</td>\n",
       "      <td>c7</td>\n",
       "      <td>d7</td>\n",
       "    </tr>\n",
       "    <tr>\n",
       "      <th>8</th>\n",
       "      <td>a8</td>\n",
       "      <td>b8</td>\n",
       "      <td>c8</td>\n",
       "      <td>d8</td>\n",
       "    </tr>\n",
       "    <tr>\n",
       "      <th>9</th>\n",
       "      <td>a9</td>\n",
       "      <td>b9</td>\n",
       "      <td>c9</td>\n",
       "      <td>d9</td>\n",
       "    </tr>\n",
       "    <tr>\n",
       "      <th>10</th>\n",
       "      <td>a10</td>\n",
       "      <td>b10</td>\n",
       "      <td>c10</td>\n",
       "      <td>d10</td>\n",
       "    </tr>\n",
       "    <tr>\n",
       "      <th>11</th>\n",
       "      <td>a11</td>\n",
       "      <td>b11</td>\n",
       "      <td>c11</td>\n",
       "      <td>d11</td>\n",
       "    </tr>\n",
       "  </tbody>\n",
       "</table>\n",
       "</div>"
      ],
      "text/plain": [
       "      a    b    c    d\n",
       "0    a0   b0   c0   d0\n",
       "1    a1   b1   c1   d1\n",
       "2    a2   b2   c2   d2\n",
       "3    a3   b3   c3   d3\n",
       "4    a4   b4   c4   d4\n",
       "5    a5   b5   c5   d5\n",
       "6    a6   b6   c6   d6\n",
       "7    a7   b7   c7   d7\n",
       "8    a8   b8   c8   d8\n",
       "9    a9   b9   c9   d9\n",
       "10  a10  b10  c10  d10\n",
       "11  a11  b11  c11  d11"
      ]
     },
     "execution_count": 293,
     "metadata": {},
     "output_type": "execute_result"
    }
   ],
   "source": [
    "print(\"\\n AFTER CONCATENATION ALONG ROW\\n\",'-'*30)\n",
    "df_cat1=pd.concat([df1,df2,df3],axis=0)\n",
    "df_cat1"
   ]
  },
  {
   "cell_type": "code",
   "execution_count": 317,
   "id": "31579375-78b0-45d6-bc5d-18fb420a05d1",
   "metadata": {},
   "outputs": [
    {
     "name": "stdout",
     "output_type": "stream",
     "text": [
      "\n",
      " AFTER CONCATENATION ALONG COLUMN\n",
      " ------------------------------\n"
     ]
    },
    {
     "data": {
      "text/html": [
       "<div>\n",
       "<style scoped>\n",
       "    .dataframe tbody tr th:only-of-type {\n",
       "        vertical-align: middle;\n",
       "    }\n",
       "\n",
       "    .dataframe tbody tr th {\n",
       "        vertical-align: top;\n",
       "    }\n",
       "\n",
       "    .dataframe thead th {\n",
       "        text-align: right;\n",
       "    }\n",
       "</style>\n",
       "<table border=\"1\" class=\"dataframe\">\n",
       "  <thead>\n",
       "    <tr style=\"text-align: right;\">\n",
       "      <th></th>\n",
       "      <th>a</th>\n",
       "      <th>b</th>\n",
       "      <th>c</th>\n",
       "      <th>d</th>\n",
       "      <th>a</th>\n",
       "      <th>b</th>\n",
       "      <th>c</th>\n",
       "      <th>d</th>\n",
       "      <th>a</th>\n",
       "      <th>b</th>\n",
       "      <th>c</th>\n",
       "      <th>d</th>\n",
       "    </tr>\n",
       "  </thead>\n",
       "  <tbody>\n",
       "    <tr>\n",
       "      <th>0</th>\n",
       "      <td>a0</td>\n",
       "      <td>b0</td>\n",
       "      <td>c0</td>\n",
       "      <td>d0</td>\n",
       "      <td>NaN</td>\n",
       "      <td>NaN</td>\n",
       "      <td>NaN</td>\n",
       "      <td>NaN</td>\n",
       "      <td>NaN</td>\n",
       "      <td>NaN</td>\n",
       "      <td>NaN</td>\n",
       "      <td>NaN</td>\n",
       "    </tr>\n",
       "    <tr>\n",
       "      <th>1</th>\n",
       "      <td>a1</td>\n",
       "      <td>b1</td>\n",
       "      <td>c1</td>\n",
       "      <td>d1</td>\n",
       "      <td>NaN</td>\n",
       "      <td>NaN</td>\n",
       "      <td>NaN</td>\n",
       "      <td>NaN</td>\n",
       "      <td>NaN</td>\n",
       "      <td>NaN</td>\n",
       "      <td>NaN</td>\n",
       "      <td>NaN</td>\n",
       "    </tr>\n",
       "    <tr>\n",
       "      <th>2</th>\n",
       "      <td>a2</td>\n",
       "      <td>b2</td>\n",
       "      <td>c2</td>\n",
       "      <td>d2</td>\n",
       "      <td>NaN</td>\n",
       "      <td>NaN</td>\n",
       "      <td>NaN</td>\n",
       "      <td>NaN</td>\n",
       "      <td>NaN</td>\n",
       "      <td>NaN</td>\n",
       "      <td>NaN</td>\n",
       "      <td>NaN</td>\n",
       "    </tr>\n",
       "    <tr>\n",
       "      <th>3</th>\n",
       "      <td>a3</td>\n",
       "      <td>b3</td>\n",
       "      <td>c3</td>\n",
       "      <td>d3</td>\n",
       "      <td>NaN</td>\n",
       "      <td>NaN</td>\n",
       "      <td>NaN</td>\n",
       "      <td>NaN</td>\n",
       "      <td>NaN</td>\n",
       "      <td>NaN</td>\n",
       "      <td>NaN</td>\n",
       "      <td>NaN</td>\n",
       "    </tr>\n",
       "    <tr>\n",
       "      <th>4</th>\n",
       "      <td>NaN</td>\n",
       "      <td>NaN</td>\n",
       "      <td>NaN</td>\n",
       "      <td>NaN</td>\n",
       "      <td>a4</td>\n",
       "      <td>b4</td>\n",
       "      <td>c4</td>\n",
       "      <td>d4</td>\n",
       "      <td>NaN</td>\n",
       "      <td>NaN</td>\n",
       "      <td>NaN</td>\n",
       "      <td>NaN</td>\n",
       "    </tr>\n",
       "    <tr>\n",
       "      <th>5</th>\n",
       "      <td>NaN</td>\n",
       "      <td>NaN</td>\n",
       "      <td>NaN</td>\n",
       "      <td>NaN</td>\n",
       "      <td>a5</td>\n",
       "      <td>b5</td>\n",
       "      <td>c5</td>\n",
       "      <td>d5</td>\n",
       "      <td>NaN</td>\n",
       "      <td>NaN</td>\n",
       "      <td>NaN</td>\n",
       "      <td>NaN</td>\n",
       "    </tr>\n",
       "    <tr>\n",
       "      <th>6</th>\n",
       "      <td>NaN</td>\n",
       "      <td>NaN</td>\n",
       "      <td>NaN</td>\n",
       "      <td>NaN</td>\n",
       "      <td>a6</td>\n",
       "      <td>b6</td>\n",
       "      <td>c6</td>\n",
       "      <td>d6</td>\n",
       "      <td>NaN</td>\n",
       "      <td>NaN</td>\n",
       "      <td>NaN</td>\n",
       "      <td>NaN</td>\n",
       "    </tr>\n",
       "    <tr>\n",
       "      <th>7</th>\n",
       "      <td>NaN</td>\n",
       "      <td>NaN</td>\n",
       "      <td>NaN</td>\n",
       "      <td>NaN</td>\n",
       "      <td>a7</td>\n",
       "      <td>b7</td>\n",
       "      <td>c7</td>\n",
       "      <td>d7</td>\n",
       "      <td>NaN</td>\n",
       "      <td>NaN</td>\n",
       "      <td>NaN</td>\n",
       "      <td>NaN</td>\n",
       "    </tr>\n",
       "    <tr>\n",
       "      <th>8</th>\n",
       "      <td>NaN</td>\n",
       "      <td>NaN</td>\n",
       "      <td>NaN</td>\n",
       "      <td>NaN</td>\n",
       "      <td>NaN</td>\n",
       "      <td>NaN</td>\n",
       "      <td>NaN</td>\n",
       "      <td>NaN</td>\n",
       "      <td>a8</td>\n",
       "      <td>b8</td>\n",
       "      <td>c8</td>\n",
       "      <td>d8</td>\n",
       "    </tr>\n",
       "    <tr>\n",
       "      <th>9</th>\n",
       "      <td>NaN</td>\n",
       "      <td>NaN</td>\n",
       "      <td>NaN</td>\n",
       "      <td>NaN</td>\n",
       "      <td>NaN</td>\n",
       "      <td>NaN</td>\n",
       "      <td>NaN</td>\n",
       "      <td>NaN</td>\n",
       "      <td>a9</td>\n",
       "      <td>b9</td>\n",
       "      <td>c9</td>\n",
       "      <td>d9</td>\n",
       "    </tr>\n",
       "    <tr>\n",
       "      <th>10</th>\n",
       "      <td>NaN</td>\n",
       "      <td>NaN</td>\n",
       "      <td>NaN</td>\n",
       "      <td>NaN</td>\n",
       "      <td>NaN</td>\n",
       "      <td>NaN</td>\n",
       "      <td>NaN</td>\n",
       "      <td>NaN</td>\n",
       "      <td>a10</td>\n",
       "      <td>b10</td>\n",
       "      <td>c10</td>\n",
       "      <td>d10</td>\n",
       "    </tr>\n",
       "    <tr>\n",
       "      <th>11</th>\n",
       "      <td>NaN</td>\n",
       "      <td>NaN</td>\n",
       "      <td>NaN</td>\n",
       "      <td>NaN</td>\n",
       "      <td>NaN</td>\n",
       "      <td>NaN</td>\n",
       "      <td>NaN</td>\n",
       "      <td>NaN</td>\n",
       "      <td>a11</td>\n",
       "      <td>b11</td>\n",
       "      <td>c11</td>\n",
       "      <td>d11</td>\n",
       "    </tr>\n",
       "  </tbody>\n",
       "</table>\n",
       "</div>"
      ],
      "text/plain": [
       "      a    b    c    d    a    b    c    d    a    b    c    d\n",
       "0    a0   b0   c0   d0  NaN  NaN  NaN  NaN  NaN  NaN  NaN  NaN\n",
       "1    a1   b1   c1   d1  NaN  NaN  NaN  NaN  NaN  NaN  NaN  NaN\n",
       "2    a2   b2   c2   d2  NaN  NaN  NaN  NaN  NaN  NaN  NaN  NaN\n",
       "3    a3   b3   c3   d3  NaN  NaN  NaN  NaN  NaN  NaN  NaN  NaN\n",
       "4   NaN  NaN  NaN  NaN   a4   b4   c4   d4  NaN  NaN  NaN  NaN\n",
       "5   NaN  NaN  NaN  NaN   a5   b5   c5   d5  NaN  NaN  NaN  NaN\n",
       "6   NaN  NaN  NaN  NaN   a6   b6   c6   d6  NaN  NaN  NaN  NaN\n",
       "7   NaN  NaN  NaN  NaN   a7   b7   c7   d7  NaN  NaN  NaN  NaN\n",
       "8   NaN  NaN  NaN  NaN  NaN  NaN  NaN  NaN   a8   b8   c8   d8\n",
       "9   NaN  NaN  NaN  NaN  NaN  NaN  NaN  NaN   a9   b9   c9   d9\n",
       "10  NaN  NaN  NaN  NaN  NaN  NaN  NaN  NaN  a10  b10  c10  d10\n",
       "11  NaN  NaN  NaN  NaN  NaN  NaN  NaN  NaN  a11  b11  c11  d11"
      ]
     },
     "execution_count": 317,
     "metadata": {},
     "output_type": "execute_result"
    }
   ],
   "source": [
    "print(\"\\n AFTER CONCATENATION ALONG COLUMN\\n\",'-'*30)\n",
    "df_cat2=pd.concat([df1,df2,df3],axis=1)\n",
    "df_cat2"
   ]
  },
  {
   "cell_type": "markdown",
   "id": "acbbc7ed-868c-4c58-9d0c-54ae081253fe",
   "metadata": {},
   "source": [
    "MERGING BY A COMMON KEY\n",
    "-"
   ]
  },
  {
   "cell_type": "markdown",
   "id": "1a3457b4-6adf-49b5-8f7d-7a943261cf8a",
   "metadata": {},
   "source": [
    "THE MERGE FUNCTION ALLOWS YOU TO MERGE DATAFRAMES TOGETHER USING A SIMILAR LOGIC AS MERGING SQL TABLES TOGETHER"
   ]
  },
  {
   "cell_type": "code",
   "execution_count": 324,
   "id": "cc6929b3-bced-49cb-a8d7-616c59424813",
   "metadata": {},
   "outputs": [
    {
     "name": "stdout",
     "output_type": "stream",
     "text": [
      "\n",
      "THE DATAFRAME 'LEFT'\n",
      " ------------------------------\n"
     ]
    },
    {
     "data": {
      "text/html": [
       "<div>\n",
       "<style scoped>\n",
       "    .dataframe tbody tr th:only-of-type {\n",
       "        vertical-align: middle;\n",
       "    }\n",
       "\n",
       "    .dataframe tbody tr th {\n",
       "        vertical-align: top;\n",
       "    }\n",
       "\n",
       "    .dataframe thead th {\n",
       "        text-align: right;\n",
       "    }\n",
       "</style>\n",
       "<table border=\"1\" class=\"dataframe\">\n",
       "  <thead>\n",
       "    <tr style=\"text-align: right;\">\n",
       "      <th></th>\n",
       "      <th>key</th>\n",
       "      <th>a</th>\n",
       "      <th>b</th>\n",
       "    </tr>\n",
       "  </thead>\n",
       "  <tbody>\n",
       "    <tr>\n",
       "      <th>0</th>\n",
       "      <td>c0</td>\n",
       "      <td>a0</td>\n",
       "      <td>b0</td>\n",
       "    </tr>\n",
       "    <tr>\n",
       "      <th>1</th>\n",
       "      <td>c1</td>\n",
       "      <td>a1</td>\n",
       "      <td>b1</td>\n",
       "    </tr>\n",
       "    <tr>\n",
       "      <th>2</th>\n",
       "      <td>c2</td>\n",
       "      <td>a2</td>\n",
       "      <td>b2</td>\n",
       "    </tr>\n",
       "    <tr>\n",
       "      <th>3</th>\n",
       "      <td>c3</td>\n",
       "      <td>a3</td>\n",
       "      <td>b3</td>\n",
       "    </tr>\n",
       "  </tbody>\n",
       "</table>\n",
       "</div>"
      ],
      "text/plain": [
       "  key   a   b\n",
       "0  c0  a0  b0\n",
       "1  c1  a1  b1\n",
       "2  c2  a2  b2\n",
       "3  c3  a3  b3"
      ]
     },
     "execution_count": 324,
     "metadata": {},
     "output_type": "execute_result"
    }
   ],
   "source": [
    "left=pd.DataFrame({'key':['c0','c1','c2','c3'],'a':['a0','a1','a2','a3'],\"b\":['b0','b1','b2','b3']})\n",
    "print(\"\\nTHE DATAFRAME 'LEFT'\\n\",\"-\"*30)\n",
    "left"
   ]
  },
  {
   "cell_type": "code",
   "execution_count": 326,
   "id": "50baca16-7b63-43f4-b317-ef56ab604a77",
   "metadata": {},
   "outputs": [
    {
     "name": "stdout",
     "output_type": "stream",
     "text": [
      "\n",
      "THE DATAFRAME 'RIGHT'\n",
      " ------------------------------\n"
     ]
    },
    {
     "data": {
      "text/html": [
       "<div>\n",
       "<style scoped>\n",
       "    .dataframe tbody tr th:only-of-type {\n",
       "        vertical-align: middle;\n",
       "    }\n",
       "\n",
       "    .dataframe tbody tr th {\n",
       "        vertical-align: top;\n",
       "    }\n",
       "\n",
       "    .dataframe thead th {\n",
       "        text-align: right;\n",
       "    }\n",
       "</style>\n",
       "<table border=\"1\" class=\"dataframe\">\n",
       "  <thead>\n",
       "    <tr style=\"text-align: right;\">\n",
       "      <th></th>\n",
       "      <th>key</th>\n",
       "      <th>c</th>\n",
       "      <th>d</th>\n",
       "    </tr>\n",
       "  </thead>\n",
       "  <tbody>\n",
       "    <tr>\n",
       "      <th>0</th>\n",
       "      <td>c0</td>\n",
       "      <td>c0</td>\n",
       "      <td>d0</td>\n",
       "    </tr>\n",
       "    <tr>\n",
       "      <th>1</th>\n",
       "      <td>c1</td>\n",
       "      <td>c1</td>\n",
       "      <td>d1</td>\n",
       "    </tr>\n",
       "    <tr>\n",
       "      <th>2</th>\n",
       "      <td>c2</td>\n",
       "      <td>c2</td>\n",
       "      <td>d2</td>\n",
       "    </tr>\n",
       "    <tr>\n",
       "      <th>3</th>\n",
       "      <td>c3</td>\n",
       "      <td>c3</td>\n",
       "      <td>d3</td>\n",
       "    </tr>\n",
       "  </tbody>\n",
       "</table>\n",
       "</div>"
      ],
      "text/plain": [
       "  key   c   d\n",
       "0  c0  c0  d0\n",
       "1  c1  c1  d1\n",
       "2  c2  c2  d2\n",
       "3  c3  c3  d3"
      ]
     },
     "execution_count": 326,
     "metadata": {},
     "output_type": "execute_result"
    }
   ],
   "source": [
    "right=pd.DataFrame({'key':['c0','c1','c2','c3'],'c':['c0','c1','c2','c3'],\"d\":['d0','d1','d2','d3']})\n",
    "print(\"\\nTHE DATAFRAME 'RIGHT'\\n\",\"-\"*30)\n",
    "right"
   ]
  },
  {
   "cell_type": "code",
   "execution_count": 330,
   "id": "288e14b8-a2a4-4bb5-997e-d8f3943d7646",
   "metadata": {},
   "outputs": [
    {
     "name": "stdout",
     "output_type": "stream",
     "text": [
      "\n",
      "AFTER SIMPLE MERGING WITH 'INNER' METHOD \n",
      " --------------------------------------------------\n"
     ]
    },
    {
     "data": {
      "text/html": [
       "<div>\n",
       "<style scoped>\n",
       "    .dataframe tbody tr th:only-of-type {\n",
       "        vertical-align: middle;\n",
       "    }\n",
       "\n",
       "    .dataframe tbody tr th {\n",
       "        vertical-align: top;\n",
       "    }\n",
       "\n",
       "    .dataframe thead th {\n",
       "        text-align: right;\n",
       "    }\n",
       "</style>\n",
       "<table border=\"1\" class=\"dataframe\">\n",
       "  <thead>\n",
       "    <tr style=\"text-align: right;\">\n",
       "      <th></th>\n",
       "      <th>key</th>\n",
       "      <th>a</th>\n",
       "      <th>b</th>\n",
       "      <th>c</th>\n",
       "      <th>d</th>\n",
       "    </tr>\n",
       "  </thead>\n",
       "  <tbody>\n",
       "    <tr>\n",
       "      <th>0</th>\n",
       "      <td>c0</td>\n",
       "      <td>a0</td>\n",
       "      <td>b0</td>\n",
       "      <td>c0</td>\n",
       "      <td>d0</td>\n",
       "    </tr>\n",
       "    <tr>\n",
       "      <th>1</th>\n",
       "      <td>c1</td>\n",
       "      <td>a1</td>\n",
       "      <td>b1</td>\n",
       "      <td>c1</td>\n",
       "      <td>d1</td>\n",
       "    </tr>\n",
       "    <tr>\n",
       "      <th>2</th>\n",
       "      <td>c2</td>\n",
       "      <td>a2</td>\n",
       "      <td>b2</td>\n",
       "      <td>c2</td>\n",
       "      <td>d2</td>\n",
       "    </tr>\n",
       "    <tr>\n",
       "      <th>3</th>\n",
       "      <td>c3</td>\n",
       "      <td>a3</td>\n",
       "      <td>b3</td>\n",
       "      <td>c3</td>\n",
       "      <td>d3</td>\n",
       "    </tr>\n",
       "  </tbody>\n",
       "</table>\n",
       "</div>"
      ],
      "text/plain": [
       "  key   a   b   c   d\n",
       "0  c0  a0  b0  c0  d0\n",
       "1  c1  a1  b1  c1  d1\n",
       "2  c2  a2  b2  c2  d2\n",
       "3  c3  a3  b3  c3  d3"
      ]
     },
     "execution_count": 330,
     "metadata": {},
     "output_type": "execute_result"
    }
   ],
   "source": [
    "merge1=pd.merge(left,right,how=\"inner\",on=\"key\")\n",
    "print(\"\\nAFTER SIMPLE MERGING WITH 'INNER' METHOD \\n\",\"-\"*50)\n",
    "merge1"
   ]
  },
  {
   "cell_type": "markdown",
   "id": "4db1479c-c5de-4862-8a01-375f5193e551",
   "metadata": {},
   "source": [
    "JOINING\n",
    "-"
   ]
  },
  {
   "cell_type": "markdown",
   "id": "a88feb68-e2f2-4172-b9c1-6ec4388f8f83",
   "metadata": {},
   "source": [
    "JOINING IS A CONVENSENT METHOD FOR COMBINING THE COLUMNS OF TWO DIFFERNTLY  INDEXED DATAFRAMES INTO A SINGLE DATAFRAME BASED ON 'INDEX KEYS'"
   ]
  },
  {
   "cell_type": "code",
   "execution_count": 334,
   "id": "185a6b77-2ff6-4899-a65f-08606bdfcf97",
   "metadata": {},
   "outputs": [
    {
     "name": "stdout",
     "output_type": "stream",
     "text": [
      "\n",
      "THE DATAFRAME 'LEFT'\n",
      " ------------------------------\n"
     ]
    },
    {
     "data": {
      "text/html": [
       "<div>\n",
       "<style scoped>\n",
       "    .dataframe tbody tr th:only-of-type {\n",
       "        vertical-align: middle;\n",
       "    }\n",
       "\n",
       "    .dataframe tbody tr th {\n",
       "        vertical-align: top;\n",
       "    }\n",
       "\n",
       "    .dataframe thead th {\n",
       "        text-align: right;\n",
       "    }\n",
       "</style>\n",
       "<table border=\"1\" class=\"dataframe\">\n",
       "  <thead>\n",
       "    <tr style=\"text-align: right;\">\n",
       "      <th></th>\n",
       "      <th>a</th>\n",
       "      <th>b</th>\n",
       "    </tr>\n",
       "  </thead>\n",
       "  <tbody>\n",
       "    <tr>\n",
       "      <th>k1</th>\n",
       "      <td>a0</td>\n",
       "      <td>b0</td>\n",
       "    </tr>\n",
       "    <tr>\n",
       "      <th>k2</th>\n",
       "      <td>a1</td>\n",
       "      <td>b1</td>\n",
       "    </tr>\n",
       "    <tr>\n",
       "      <th>k3</th>\n",
       "      <td>a2</td>\n",
       "      <td>b2</td>\n",
       "    </tr>\n",
       "    <tr>\n",
       "      <th>k4</th>\n",
       "      <td>a3</td>\n",
       "      <td>b3</td>\n",
       "    </tr>\n",
       "  </tbody>\n",
       "</table>\n",
       "</div>"
      ],
      "text/plain": [
       "     a   b\n",
       "k1  a0  b0\n",
       "k2  a1  b1\n",
       "k3  a2  b2\n",
       "k4  a3  b3"
      ]
     },
     "execution_count": 334,
     "metadata": {},
     "output_type": "execute_result"
    }
   ],
   "source": [
    "left=pd.DataFrame({'a':['a0','a1','a2','a3'],\"b\":['b0','b1','b2','b3']},index=['k1','k2','k3','k4'])\n",
    "print(\"\\nTHE DATAFRAME 'LEFT'\\n\",\"-\"*30)\n",
    "left"
   ]
  },
  {
   "cell_type": "code",
   "execution_count": 338,
   "id": "5c4914eb-7a98-492f-9394-46da76648735",
   "metadata": {},
   "outputs": [
    {
     "name": "stdout",
     "output_type": "stream",
     "text": [
      "\n",
      "THE DATAFRAME 'RIGHT'\n",
      " ------------------------------\n"
     ]
    },
    {
     "data": {
      "text/html": [
       "<div>\n",
       "<style scoped>\n",
       "    .dataframe tbody tr th:only-of-type {\n",
       "        vertical-align: middle;\n",
       "    }\n",
       "\n",
       "    .dataframe tbody tr th {\n",
       "        vertical-align: top;\n",
       "    }\n",
       "\n",
       "    .dataframe thead th {\n",
       "        text-align: right;\n",
       "    }\n",
       "</style>\n",
       "<table border=\"1\" class=\"dataframe\">\n",
       "  <thead>\n",
       "    <tr style=\"text-align: right;\">\n",
       "      <th></th>\n",
       "      <th>c</th>\n",
       "      <th>d</th>\n",
       "    </tr>\n",
       "  </thead>\n",
       "  <tbody>\n",
       "    <tr>\n",
       "      <th>k0</th>\n",
       "      <td>c0</td>\n",
       "      <td>d0</td>\n",
       "    </tr>\n",
       "    <tr>\n",
       "      <th>k1</th>\n",
       "      <td>c1</td>\n",
       "      <td>d1</td>\n",
       "    </tr>\n",
       "    <tr>\n",
       "      <th>k2</th>\n",
       "      <td>c2</td>\n",
       "      <td>d2</td>\n",
       "    </tr>\n",
       "    <tr>\n",
       "      <th>k3</th>\n",
       "      <td>c3</td>\n",
       "      <td>d3</td>\n",
       "    </tr>\n",
       "  </tbody>\n",
       "</table>\n",
       "</div>"
      ],
      "text/plain": [
       "     c   d\n",
       "k0  c0  d0\n",
       "k1  c1  d1\n",
       "k2  c2  d2\n",
       "k3  c3  d3"
      ]
     },
     "execution_count": 338,
     "metadata": {},
     "output_type": "execute_result"
    }
   ],
   "source": [
    "right=pd.DataFrame({'c':['c0','c1','c2','c3'],\"d\":['d0','d1','d2','d3']},index=['k0','k1','k2','k3'])\n",
    "print(\"\\nTHE DATAFRAME 'RIGHT'\\n\",\"-\"*30)\n",
    "right"
   ]
  },
  {
   "cell_type": "code",
   "execution_count": 340,
   "id": "9490bb7c-d6a2-45b6-abf8-44f3bafe2a23",
   "metadata": {},
   "outputs": [
    {
     "name": "stdout",
     "output_type": "stream",
     "text": [
      "     a   b    c    d\n",
      "k1  a0  b0   c1   d1\n",
      "k2  a1  b1   c2   d2\n",
      "k3  a2  b2   c3   d3\n",
      "k4  a3  b3  NaN  NaN\n"
     ]
    }
   ],
   "source": [
    "print(left.join(right))"
   ]
  },
  {
   "cell_type": "code",
   "execution_count": 345,
   "id": "9fab1775-9421-47a6-b590-48ea8affbb98",
   "metadata": {},
   "outputs": [
    {
     "name": "stdout",
     "output_type": "stream",
     "text": [
      "      a    b    c    d\n",
      "k0  NaN  NaN   c0   d0\n",
      "k1   a0   b0   c1   d1\n",
      "k2   a1   b1   c2   d2\n",
      "k3   a2   b2   c3   d3\n",
      "k4   a3   b3  NaN  NaN\n"
     ]
    }
   ],
   "source": [
    "print(left.join(right,how=\"outer\"))"
   ]
  }
 ],
 "metadata": {
  "kernelspec": {
   "display_name": "Python 3 (ipykernel)",
   "language": "python",
   "name": "python3"
  },
  "language_info": {
   "codemirror_mode": {
    "name": "ipython",
    "version": 3
   },
   "file_extension": ".py",
   "mimetype": "text/x-python",
   "name": "python",
   "nbconvert_exporter": "python",
   "pygments_lexer": "ipython3",
   "version": "3.12.4"
  }
 },
 "nbformat": 4,
 "nbformat_minor": 5
}
